{
  "cells": [
    {
      "cell_type": "markdown",
      "metadata": {
        "id": "ncH6xqEvhPR4"
      },
      "source": [
        "# Analysis of customer data"
      ]
    },
    {
      "cell_type": "markdown",
      "metadata": {
        "id": "N0v6m2njA736"
      },
      "source": [
        " 1: Load all the necessary packages"
      ]
    },
    {
      "cell_type": "code",
      "execution_count": 1,
      "metadata": {
        "colab": {
          "base_uri": "https://localhost:8080/"
        },
        "id": "Iy90YS3IQn8H",
        "outputId": "40a15427-3344-4403-aea4-2631b28fd4d8"
      },
      "outputs": [
        {
          "name": "stdout",
          "output_type": "stream",
          "text": [
            "Collecting scikit-surprise\n",
            "  Downloading scikit-surprise-1.1.3.tar.gz (771 kB)\n",
            "\u001b[?25l     \u001b[90m━━━━━━━━━━━━━━━━━━━━━━━━━━━━━━━━━━━━━━━━\u001b[0m \u001b[32m0.0/772.0 kB\u001b[0m \u001b[31m?\u001b[0m eta \u001b[36m-:--:--\u001b[0m\r\u001b[2K     \u001b[91m━━━━━━━━\u001b[0m\u001b[90m╺\u001b[0m\u001b[90m━━━━━━━━━━━━━━━━━━━━━━━━━━━━━━\u001b[0m \u001b[32m163.8/772.0 kB\u001b[0m \u001b[31m4.7 MB/s\u001b[0m eta \u001b[36m0:00:01\u001b[0m\r\u001b[2K     \u001b[90m━━━━━━━━━━━━━━━━━━━━━━━━━━━━━━━━━━━━━━\u001b[0m \u001b[32m772.0/772.0 kB\u001b[0m \u001b[31m11.4 MB/s\u001b[0m eta \u001b[36m0:00:00\u001b[0m\n",
            "\u001b[?25h  Preparing metadata (setup.py) ... \u001b[?25l\u001b[?25hdone\n",
            "Requirement already satisfied: joblib>=1.0.0 in /usr/local/lib/python3.10/dist-packages (from scikit-surprise) (1.3.2)\n",
            "Requirement already satisfied: numpy>=1.17.3 in /usr/local/lib/python3.10/dist-packages (from scikit-surprise) (1.23.5)\n",
            "Requirement already satisfied: scipy>=1.3.2 in /usr/local/lib/python3.10/dist-packages (from scikit-surprise) (1.11.3)\n",
            "Building wheels for collected packages: scikit-surprise\n",
            "  Building wheel for scikit-surprise (setup.py) ... \u001b[?25l\u001b[?25hdone\n",
            "  Created wheel for scikit-surprise: filename=scikit_surprise-1.1.3-cp310-cp310-linux_x86_64.whl size=3163329 sha256=3f90182acc17048fe766b2a80cc1f73514207edcb4e6cc105b4ecc8300a3d86e\n",
            "  Stored in directory: /root/.cache/pip/wheels/a5/ca/a8/4e28def53797fdc4363ca4af740db15a9c2f1595ebc51fb445\n",
            "Successfully built scikit-surprise\n",
            "Installing collected packages: scikit-surprise\n",
            "Successfully installed scikit-surprise-1.1.3\n"
          ]
        }
      ],
      "source": [
        "pip install scikit-surprise"
      ]
    },
    {
      "cell_type": "code",
      "execution_count": 2,
      "metadata": {
        "id": "vMyJCqHnQc-r"
      },
      "outputs": [],
      "source": [
        "import numpy as np\n",
        "import pandas as pd\n",
        "import seaborn as sns\n",
        "\n",
        "sns.set()\n",
        "sns.set_style('whitegrid')\n",
        "sns.set_context('paper', font_scale=1.6, rc={\"lines.linewidth\": 2})\n",
        "import matplotlib.pyplot as plt\n",
        "import scipy.stats as stats\n",
        "from surprise import Dataset\n",
        "from surprise import Reader\n",
        "from surprise import NormalPredictor\n",
        "from surprise.model_selection import cross_validate\n",
        "from surprise.model_selection import GridSearchCV\n",
        "from surprise import KNNBasic, KNNWithMeans\n",
        "from surprise.prediction_algorithms.matrix_factorization import SVD"
      ]
    },
    {
      "cell_type": "markdown",
      "metadata": {
        "id": "-3kJN1xJBn7v"
      },
      "source": [
        "# 2. Load the dataset"
      ]
    },
    {
      "cell_type": "code",
      "execution_count": 5,
      "metadata": {
        "id": "xmPMS4MhQmIk"
      },
      "outputs": [],
      "source": [
        "data = pd.read_csv('/content/drive/MyDrive/MovieLens-Ratings.csv')"
      ]
    },
    {
      "cell_type": "markdown",
      "metadata": {
        "id": "xFnumVxuBvbW"
      },
      "source": [
        "# 3. Exploratory Data Analysis"
      ]
    },
    {
      "cell_type": "markdown",
      "metadata": {
        "id": "L2ZOMO9LB2TY"
      },
      "source": [
        "Check the unique values of the movie ratings"
      ]
    },
    {
      "cell_type": "code",
      "execution_count": 15,
      "metadata": {
        "colab": {
          "base_uri": "https://localhost:8080/"
        },
        "id": "-YtL_aL8SgbH",
        "outputId": "4807f4fa-5814-459e-9d29-46f0084e68b8"
      },
      "outputs": [
        {
          "data": {
            "text/plain": [
              "{0.5, 1.0, 1.5, 2.0, 2.5, 3.0, 3.5, 4.0, 4.5, 5.0}"
            ]
          },
          "execution_count": 15,
          "metadata": {},
          "output_type": "execute_result"
        }
      ],
      "source": [
        "set(data['rating'])"
      ]
    },
    {
      "cell_type": "code",
      "execution_count": 5,
      "metadata": {
        "colab": {
          "base_uri": "https://localhost:8080/",
          "height": 833
        },
        "id": "-TC8ryIRSkbw",
        "outputId": "f999ab00-bf76-40ed-a606-1cd9c0592bc4"
      },
      "outputs": [
        {
          "data": {
            "text/html": [
              "\n",
              "  <div id=\"df-7e8e33c1-3072-42f0-a358-28fb645ddffc\" class=\"colab-df-container\">\n",
              "    <div>\n",
              "<style scoped>\n",
              "    .dataframe tbody tr th:only-of-type {\n",
              "        vertical-align: middle;\n",
              "    }\n",
              "\n",
              "    .dataframe tbody tr th {\n",
              "        vertical-align: top;\n",
              "    }\n",
              "\n",
              "    .dataframe thead th {\n",
              "        text-align: right;\n",
              "    }\n",
              "</style>\n",
              "<table border=\"1\" class=\"dataframe\">\n",
              "  <thead>\n",
              "    <tr style=\"text-align: right;\">\n",
              "      <th></th>\n",
              "      <th>userId</th>\n",
              "      <th>movieId</th>\n",
              "      <th>rating</th>\n",
              "      <th>timestamp</th>\n",
              "    </tr>\n",
              "  </thead>\n",
              "  <tbody>\n",
              "    <tr>\n",
              "      <th>0</th>\n",
              "      <td>1</td>\n",
              "      <td>307</td>\n",
              "      <td>3.5</td>\n",
              "      <td>1256677221</td>\n",
              "    </tr>\n",
              "    <tr>\n",
              "      <th>1</th>\n",
              "      <td>1</td>\n",
              "      <td>481</td>\n",
              "      <td>3.5</td>\n",
              "      <td>1256677456</td>\n",
              "    </tr>\n",
              "    <tr>\n",
              "      <th>2</th>\n",
              "      <td>1</td>\n",
              "      <td>1091</td>\n",
              "      <td>1.5</td>\n",
              "      <td>1256677471</td>\n",
              "    </tr>\n",
              "    <tr>\n",
              "      <th>3</th>\n",
              "      <td>1</td>\n",
              "      <td>1257</td>\n",
              "      <td>4.5</td>\n",
              "      <td>1256677460</td>\n",
              "    </tr>\n",
              "    <tr>\n",
              "      <th>4</th>\n",
              "      <td>1</td>\n",
              "      <td>1449</td>\n",
              "      <td>4.5</td>\n",
              "      <td>1256677264</td>\n",
              "    </tr>\n",
              "    <tr>\n",
              "      <th>5</th>\n",
              "      <td>1</td>\n",
              "      <td>1590</td>\n",
              "      <td>2.5</td>\n",
              "      <td>1256677236</td>\n",
              "    </tr>\n",
              "    <tr>\n",
              "      <th>6</th>\n",
              "      <td>1</td>\n",
              "      <td>1591</td>\n",
              "      <td>1.5</td>\n",
              "      <td>1256677475</td>\n",
              "    </tr>\n",
              "    <tr>\n",
              "      <th>7</th>\n",
              "      <td>1</td>\n",
              "      <td>2134</td>\n",
              "      <td>4.5</td>\n",
              "      <td>1256677464</td>\n",
              "    </tr>\n",
              "    <tr>\n",
              "      <th>8</th>\n",
              "      <td>1</td>\n",
              "      <td>2478</td>\n",
              "      <td>4.0</td>\n",
              "      <td>1256677239</td>\n",
              "    </tr>\n",
              "    <tr>\n",
              "      <th>9</th>\n",
              "      <td>1</td>\n",
              "      <td>2840</td>\n",
              "      <td>3.0</td>\n",
              "      <td>1256677500</td>\n",
              "    </tr>\n",
              "    <tr>\n",
              "      <th>10</th>\n",
              "      <td>1</td>\n",
              "      <td>2986</td>\n",
              "      <td>2.5</td>\n",
              "      <td>1256677496</td>\n",
              "    </tr>\n",
              "    <tr>\n",
              "      <th>11</th>\n",
              "      <td>1</td>\n",
              "      <td>3020</td>\n",
              "      <td>4.0</td>\n",
              "      <td>1256677260</td>\n",
              "    </tr>\n",
              "    <tr>\n",
              "      <th>12</th>\n",
              "      <td>1</td>\n",
              "      <td>3424</td>\n",
              "      <td>4.5</td>\n",
              "      <td>1256677444</td>\n",
              "    </tr>\n",
              "    <tr>\n",
              "      <th>13</th>\n",
              "      <td>1</td>\n",
              "      <td>3698</td>\n",
              "      <td>3.5</td>\n",
              "      <td>1256677243</td>\n",
              "    </tr>\n",
              "    <tr>\n",
              "      <th>14</th>\n",
              "      <td>1</td>\n",
              "      <td>3826</td>\n",
              "      <td>2.0</td>\n",
              "      <td>1256677210</td>\n",
              "    </tr>\n",
              "    <tr>\n",
              "      <th>15</th>\n",
              "      <td>1</td>\n",
              "      <td>3893</td>\n",
              "      <td>3.5</td>\n",
              "      <td>1256677486</td>\n",
              "    </tr>\n",
              "    <tr>\n",
              "      <th>16</th>\n",
              "      <td>2</td>\n",
              "      <td>170</td>\n",
              "      <td>3.5</td>\n",
              "      <td>1192913581</td>\n",
              "    </tr>\n",
              "    <tr>\n",
              "      <th>17</th>\n",
              "      <td>2</td>\n",
              "      <td>849</td>\n",
              "      <td>3.5</td>\n",
              "      <td>1192913537</td>\n",
              "    </tr>\n",
              "    <tr>\n",
              "      <th>18</th>\n",
              "      <td>2</td>\n",
              "      <td>1186</td>\n",
              "      <td>3.5</td>\n",
              "      <td>1192913611</td>\n",
              "    </tr>\n",
              "    <tr>\n",
              "      <th>19</th>\n",
              "      <td>2</td>\n",
              "      <td>1235</td>\n",
              "      <td>3.0</td>\n",
              "      <td>1192913585</td>\n",
              "    </tr>\n",
              "    <tr>\n",
              "      <th>20</th>\n",
              "      <td>2</td>\n",
              "      <td>1244</td>\n",
              "      <td>3.0</td>\n",
              "      <td>1192913551</td>\n",
              "    </tr>\n",
              "    <tr>\n",
              "      <th>21</th>\n",
              "      <td>2</td>\n",
              "      <td>1296</td>\n",
              "      <td>4.5</td>\n",
              "      <td>1192913608</td>\n",
              "    </tr>\n",
              "    <tr>\n",
              "      <th>22</th>\n",
              "      <td>2</td>\n",
              "      <td>1663</td>\n",
              "      <td>3.0</td>\n",
              "      <td>1192913565</td>\n",
              "    </tr>\n",
              "    <tr>\n",
              "      <th>23</th>\n",
              "      <td>2</td>\n",
              "      <td>1962</td>\n",
              "      <td>4.0</td>\n",
              "      <td>1192913533</td>\n",
              "    </tr>\n",
              "    <tr>\n",
              "      <th>24</th>\n",
              "      <td>2</td>\n",
              "      <td>2108</td>\n",
              "      <td>3.5</td>\n",
              "      <td>1192913541</td>\n",
              "    </tr>\n",
              "  </tbody>\n",
              "</table>\n",
              "</div>\n",
              "    <div class=\"colab-df-buttons\">\n",
              "\n",
              "  <div class=\"colab-df-container\">\n",
              "    <button class=\"colab-df-convert\" onclick=\"convertToInteractive('df-7e8e33c1-3072-42f0-a358-28fb645ddffc')\"\n",
              "            title=\"Convert this dataframe to an interactive table.\"\n",
              "            style=\"display:none;\">\n",
              "\n",
              "  <svg xmlns=\"http://www.w3.org/2000/svg\" height=\"24px\" viewBox=\"0 -960 960 960\">\n",
              "    <path d=\"M120-120v-720h720v720H120Zm60-500h600v-160H180v160Zm220 220h160v-160H400v160Zm0 220h160v-160H400v160ZM180-400h160v-160H180v160Zm440 0h160v-160H620v160ZM180-180h160v-160H180v160Zm440 0h160v-160H620v160Z\"/>\n",
              "  </svg>\n",
              "    </button>\n",
              "\n",
              "  <style>\n",
              "    .colab-df-container {\n",
              "      display:flex;\n",
              "      gap: 12px;\n",
              "    }\n",
              "\n",
              "    .colab-df-convert {\n",
              "      background-color: #E8F0FE;\n",
              "      border: none;\n",
              "      border-radius: 50%;\n",
              "      cursor: pointer;\n",
              "      display: none;\n",
              "      fill: #1967D2;\n",
              "      height: 32px;\n",
              "      padding: 0 0 0 0;\n",
              "      width: 32px;\n",
              "    }\n",
              "\n",
              "    .colab-df-convert:hover {\n",
              "      background-color: #E2EBFA;\n",
              "      box-shadow: 0px 1px 2px rgba(60, 64, 67, 0.3), 0px 1px 3px 1px rgba(60, 64, 67, 0.15);\n",
              "      fill: #174EA6;\n",
              "    }\n",
              "\n",
              "    .colab-df-buttons div {\n",
              "      margin-bottom: 4px;\n",
              "    }\n",
              "\n",
              "    [theme=dark] .colab-df-convert {\n",
              "      background-color: #3B4455;\n",
              "      fill: #D2E3FC;\n",
              "    }\n",
              "\n",
              "    [theme=dark] .colab-df-convert:hover {\n",
              "      background-color: #434B5C;\n",
              "      box-shadow: 0px 1px 3px 1px rgba(0, 0, 0, 0.15);\n",
              "      filter: drop-shadow(0px 1px 2px rgba(0, 0, 0, 0.3));\n",
              "      fill: #FFFFFF;\n",
              "    }\n",
              "  </style>\n",
              "\n",
              "    <script>\n",
              "      const buttonEl =\n",
              "        document.querySelector('#df-7e8e33c1-3072-42f0-a358-28fb645ddffc button.colab-df-convert');\n",
              "      buttonEl.style.display =\n",
              "        google.colab.kernel.accessAllowed ? 'block' : 'none';\n",
              "\n",
              "      async function convertToInteractive(key) {\n",
              "        const element = document.querySelector('#df-7e8e33c1-3072-42f0-a358-28fb645ddffc');\n",
              "        const dataTable =\n",
              "          await google.colab.kernel.invokeFunction('convertToInteractive',\n",
              "                                                    [key], {});\n",
              "        if (!dataTable) return;\n",
              "\n",
              "        const docLinkHtml = 'Like what you see? Visit the ' +\n",
              "          '<a target=\"_blank\" href=https://colab.research.google.com/notebooks/data_table.ipynb>data table notebook</a>'\n",
              "          + ' to learn more about interactive tables.';\n",
              "        element.innerHTML = '';\n",
              "        dataTable['output_type'] = 'display_data';\n",
              "        await google.colab.output.renderOutput(dataTable, element);\n",
              "        const docLink = document.createElement('div');\n",
              "        docLink.innerHTML = docLinkHtml;\n",
              "        element.appendChild(docLink);\n",
              "      }\n",
              "    </script>\n",
              "  </div>\n",
              "\n",
              "\n",
              "<div id=\"df-c93b1224-5607-4249-bd41-accba51d4401\">\n",
              "  <button class=\"colab-df-quickchart\" onclick=\"quickchart('df-c93b1224-5607-4249-bd41-accba51d4401')\"\n",
              "            title=\"Suggest charts.\"\n",
              "            style=\"display:none;\">\n",
              "\n",
              "<svg xmlns=\"http://www.w3.org/2000/svg\" height=\"24px\"viewBox=\"0 0 24 24\"\n",
              "     width=\"24px\">\n",
              "    <g>\n",
              "        <path d=\"M19 3H5c-1.1 0-2 .9-2 2v14c0 1.1.9 2 2 2h14c1.1 0 2-.9 2-2V5c0-1.1-.9-2-2-2zM9 17H7v-7h2v7zm4 0h-2V7h2v10zm4 0h-2v-4h2v4z\"/>\n",
              "    </g>\n",
              "</svg>\n",
              "  </button>\n",
              "\n",
              "<style>\n",
              "  .colab-df-quickchart {\n",
              "      --bg-color: #E8F0FE;\n",
              "      --fill-color: #1967D2;\n",
              "      --hover-bg-color: #E2EBFA;\n",
              "      --hover-fill-color: #174EA6;\n",
              "      --disabled-fill-color: #AAA;\n",
              "      --disabled-bg-color: #DDD;\n",
              "  }\n",
              "\n",
              "  [theme=dark] .colab-df-quickchart {\n",
              "      --bg-color: #3B4455;\n",
              "      --fill-color: #D2E3FC;\n",
              "      --hover-bg-color: #434B5C;\n",
              "      --hover-fill-color: #FFFFFF;\n",
              "      --disabled-bg-color: #3B4455;\n",
              "      --disabled-fill-color: #666;\n",
              "  }\n",
              "\n",
              "  .colab-df-quickchart {\n",
              "    background-color: var(--bg-color);\n",
              "    border: none;\n",
              "    border-radius: 50%;\n",
              "    cursor: pointer;\n",
              "    display: none;\n",
              "    fill: var(--fill-color);\n",
              "    height: 32px;\n",
              "    padding: 0;\n",
              "    width: 32px;\n",
              "  }\n",
              "\n",
              "  .colab-df-quickchart:hover {\n",
              "    background-color: var(--hover-bg-color);\n",
              "    box-shadow: 0 1px 2px rgba(60, 64, 67, 0.3), 0 1px 3px 1px rgba(60, 64, 67, 0.15);\n",
              "    fill: var(--button-hover-fill-color);\n",
              "  }\n",
              "\n",
              "  .colab-df-quickchart-complete:disabled,\n",
              "  .colab-df-quickchart-complete:disabled:hover {\n",
              "    background-color: var(--disabled-bg-color);\n",
              "    fill: var(--disabled-fill-color);\n",
              "    box-shadow: none;\n",
              "  }\n",
              "\n",
              "  .colab-df-spinner {\n",
              "    border: 2px solid var(--fill-color);\n",
              "    border-color: transparent;\n",
              "    border-bottom-color: var(--fill-color);\n",
              "    animation:\n",
              "      spin 1s steps(1) infinite;\n",
              "  }\n",
              "\n",
              "  @keyframes spin {\n",
              "    0% {\n",
              "      border-color: transparent;\n",
              "      border-bottom-color: var(--fill-color);\n",
              "      border-left-color: var(--fill-color);\n",
              "    }\n",
              "    20% {\n",
              "      border-color: transparent;\n",
              "      border-left-color: var(--fill-color);\n",
              "      border-top-color: var(--fill-color);\n",
              "    }\n",
              "    30% {\n",
              "      border-color: transparent;\n",
              "      border-left-color: var(--fill-color);\n",
              "      border-top-color: var(--fill-color);\n",
              "      border-right-color: var(--fill-color);\n",
              "    }\n",
              "    40% {\n",
              "      border-color: transparent;\n",
              "      border-right-color: var(--fill-color);\n",
              "      border-top-color: var(--fill-color);\n",
              "    }\n",
              "    60% {\n",
              "      border-color: transparent;\n",
              "      border-right-color: var(--fill-color);\n",
              "    }\n",
              "    80% {\n",
              "      border-color: transparent;\n",
              "      border-right-color: var(--fill-color);\n",
              "      border-bottom-color: var(--fill-color);\n",
              "    }\n",
              "    90% {\n",
              "      border-color: transparent;\n",
              "      border-bottom-color: var(--fill-color);\n",
              "    }\n",
              "  }\n",
              "</style>\n",
              "\n",
              "  <script>\n",
              "    async function quickchart(key) {\n",
              "      const quickchartButtonEl =\n",
              "        document.querySelector('#' + key + ' button');\n",
              "      quickchartButtonEl.disabled = true;  // To prevent multiple clicks.\n",
              "      quickchartButtonEl.classList.add('colab-df-spinner');\n",
              "      try {\n",
              "        const charts = await google.colab.kernel.invokeFunction(\n",
              "            'suggestCharts', [key], {});\n",
              "      } catch (error) {\n",
              "        console.error('Error during call to suggestCharts:', error);\n",
              "      }\n",
              "      quickchartButtonEl.classList.remove('colab-df-spinner');\n",
              "      quickchartButtonEl.classList.add('colab-df-quickchart-complete');\n",
              "    }\n",
              "    (() => {\n",
              "      let quickchartButtonEl =\n",
              "        document.querySelector('#df-c93b1224-5607-4249-bd41-accba51d4401 button');\n",
              "      quickchartButtonEl.style.display =\n",
              "        google.colab.kernel.accessAllowed ? 'block' : 'none';\n",
              "    })();\n",
              "  </script>\n",
              "</div>\n",
              "    </div>\n",
              "  </div>\n"
            ],
            "text/plain": [
              "    userId  movieId  rating   timestamp\n",
              "0        1      307     3.5  1256677221\n",
              "1        1      481     3.5  1256677456\n",
              "2        1     1091     1.5  1256677471\n",
              "3        1     1257     4.5  1256677460\n",
              "4        1     1449     4.5  1256677264\n",
              "5        1     1590     2.5  1256677236\n",
              "6        1     1591     1.5  1256677475\n",
              "7        1     2134     4.5  1256677464\n",
              "8        1     2478     4.0  1256677239\n",
              "9        1     2840     3.0  1256677500\n",
              "10       1     2986     2.5  1256677496\n",
              "11       1     3020     4.0  1256677260\n",
              "12       1     3424     4.5  1256677444\n",
              "13       1     3698     3.5  1256677243\n",
              "14       1     3826     2.0  1256677210\n",
              "15       1     3893     3.5  1256677486\n",
              "16       2      170     3.5  1192913581\n",
              "17       2      849     3.5  1192913537\n",
              "18       2     1186     3.5  1192913611\n",
              "19       2     1235     3.0  1192913585\n",
              "20       2     1244     3.0  1192913551\n",
              "21       2     1296     4.5  1192913608\n",
              "22       2     1663     3.0  1192913565\n",
              "23       2     1962     4.0  1192913533\n",
              "24       2     2108     3.5  1192913541"
            ]
          },
          "execution_count": 5,
          "metadata": {},
          "output_type": "execute_result"
        }
      ],
      "source": [
        "data.head(25)"
      ]
    },
    {
      "cell_type": "code",
      "execution_count": 17,
      "metadata": {
        "colab": {
          "base_uri": "https://localhost:8080/"
        },
        "id": "2y1cvyzcSkZL",
        "outputId": "35ff2144-4cd9-40cf-a7e8-a707894d6437"
      },
      "outputs": [
        {
          "name": "stdout",
          "output_type": "stream",
          "text": [
            "unique users: 283228\n",
            "unique movies: 53889\n"
          ]
        }
      ],
      "source": [
        "unique_users = len(data['userId'].unique())\n",
        "unique_movies = len(data['movieId'].unique())\n",
        "\n",
        "print('unique users: ' + str(unique_users))\n",
        "print('unique movies: ' + str(unique_movies))\n",
        "\n",
        "# unique values of users and movies"
      ]
    },
    {
      "cell_type": "markdown",
      "metadata": {
        "id": "32wmmVsUCvZa"
      },
      "source": [
        "Next we count the most frequent value of a specified column. We will use the nlargest() method that returns a specified number of rows, starting at the top after sorting the DataFrame by the highest value for a specified column.\n",
        "\n",
        "We want to count the most frequent value and"
      ]
    },
    {
      "cell_type": "code",
      "execution_count": null,
      "metadata": {
        "colab": {
          "base_uri": "https://localhost:8080/",
          "height": 470
        },
        "id": "2zX1_mj0SkWV",
        "outputId": "dea6bded-49f6-489f-ffb7-6d7d36a9f496"
      },
      "outputs": [
        {
          "data": {
            "text/plain": [
              "<Axes: >"
            ]
          },
          "execution_count": 17,
          "metadata": {},
          "output_type": "execute_result"
        },
        {
          "data": {
            "image/png": "[encoded data removed]",
            "text/plain": [
              "<Figure size 500x500 with 1 Axes>"
            ]
          },
          "metadata": {},
          "output_type": "display_data"
        }
      ],
      "source": [
        "data['movieId'].value_counts().nlargest(n=10)\n",
        "data['movieId'].value_counts().hist(figsize=(5, 5))"
      ]
    },
    {
      "cell_type": "markdown",
      "metadata": {
        "id": "EBGVrMcCCzXD"
      },
      "source": [
        "We will count the ratings grouped by user as well as the mean and standard deviation."
      ]
    },
    {
      "cell_type": "code",
      "execution_count": null,
      "metadata": {
        "colab": {
          "base_uri": "https://localhost:8080/",
          "height": 394
        },
        "id": "inGpIIUFSvN9",
        "outputId": "0d4a9cfb-618e-43ab-e760-39d6cc4abb60"
      },
      "outputs": [
        {
          "data": {
            "text/html": [
              "\n",
              "  <div id=\"df-561e32c3-d011-40d8-a697-1fd6b669d4b5\" class=\"colab-df-container\">\n",
              "    <div>\n",
              "<style scoped>\n",
              "    .dataframe tbody tr th:only-of-type {\n",
              "        vertical-align: middle;\n",
              "    }\n",
              "\n",
              "    .dataframe tbody tr th {\n",
              "        vertical-align: top;\n",
              "    }\n",
              "\n",
              "    .dataframe thead th {\n",
              "        text-align: right;\n",
              "    }\n",
              "</style>\n",
              "<table border=\"1\" class=\"dataframe\">\n",
              "  <thead>\n",
              "    <tr style=\"text-align: right;\">\n",
              "      <th></th>\n",
              "      <th>count</th>\n",
              "      <th>mean</th>\n",
              "      <th>std</th>\n",
              "    </tr>\n",
              "    <tr>\n",
              "      <th>userId</th>\n",
              "      <th></th>\n",
              "      <th></th>\n",
              "      <th></th>\n",
              "    </tr>\n",
              "  </thead>\n",
              "  <tbody>\n",
              "    <tr>\n",
              "      <th>1</th>\n",
              "      <td>16</td>\n",
              "      <td>3.312500</td>\n",
              "      <td>1.046821</td>\n",
              "    </tr>\n",
              "    <tr>\n",
              "      <th>2</th>\n",
              "      <td>15</td>\n",
              "      <td>3.666667</td>\n",
              "      <td>0.487950</td>\n",
              "    </tr>\n",
              "    <tr>\n",
              "      <th>3</th>\n",
              "      <td>11</td>\n",
              "      <td>3.545455</td>\n",
              "      <td>0.820200</td>\n",
              "    </tr>\n",
              "    <tr>\n",
              "      <th>4</th>\n",
              "      <td>736</td>\n",
              "      <td>3.397418</td>\n",
              "      <td>1.231395</td>\n",
              "    </tr>\n",
              "    <tr>\n",
              "      <th>5</th>\n",
              "      <td>72</td>\n",
              "      <td>4.263889</td>\n",
              "      <td>0.581234</td>\n",
              "    </tr>\n",
              "    <tr>\n",
              "      <th>6</th>\n",
              "      <td>42</td>\n",
              "      <td>3.547619</td>\n",
              "      <td>0.967833</td>\n",
              "    </tr>\n",
              "    <tr>\n",
              "      <th>7</th>\n",
              "      <td>15</td>\n",
              "      <td>3.200000</td>\n",
              "      <td>0.882367</td>\n",
              "    </tr>\n",
              "    <tr>\n",
              "      <th>8</th>\n",
              "      <td>31</td>\n",
              "      <td>3.354839</td>\n",
              "      <td>0.754912</td>\n",
              "    </tr>\n",
              "    <tr>\n",
              "      <th>9</th>\n",
              "      <td>1</td>\n",
              "      <td>5.000000</td>\n",
              "      <td>NaN</td>\n",
              "    </tr>\n",
              "    <tr>\n",
              "      <th>10</th>\n",
              "      <td>121</td>\n",
              "      <td>4.190083</td>\n",
              "      <td>0.829800</td>\n",
              "    </tr>\n",
              "  </tbody>\n",
              "</table>\n",
              "</div>\n",
              "    <div class=\"colab-df-buttons\">\n",
              "\n",
              "  <div class=\"colab-df-container\">\n",
              "    <button class=\"colab-df-convert\" onclick=\"convertToInteractive('df-561e32c3-d011-40d8-a697-1fd6b669d4b5')\"\n",
              "            title=\"Convert this dataframe to an interactive table.\"\n",
              "            style=\"display:none;\">\n",
              "\n",
              "  <svg xmlns=\"http://www.w3.org/2000/svg\" height=\"24px\" viewBox=\"0 -960 960 960\">\n",
              "    <path d=\"M120-120v-720h720v720H120Zm60-500h600v-160H180v160Zm220 220h160v-160H400v160Zm0 220h160v-160H400v160ZM180-400h160v-160H180v160Zm440 0h160v-160H620v160ZM180-180h160v-160H180v160Zm440 0h160v-160H620v160Z\"/>\n",
              "  </svg>\n",
              "    </button>\n",
              "\n",
              "  <style>\n",
              "    .colab-df-container {\n",
              "      display:flex;\n",
              "      gap: 12px;\n",
              "    }\n",
              "\n",
              "    .colab-df-convert {\n",
              "      background-color: #E8F0FE;\n",
              "      border: none;\n",
              "      border-radius: 50%;\n",
              "      cursor: pointer;\n",
              "      display: none;\n",
              "      fill: #1967D2;\n",
              "      height: 32px;\n",
              "      padding: 0 0 0 0;\n",
              "      width: 32px;\n",
              "    }\n",
              "\n",
              "    .colab-df-convert:hover {\n",
              "      background-color: #E2EBFA;\n",
              "      box-shadow: 0px 1px 2px rgba(60, 64, 67, 0.3), 0px 1px 3px 1px rgba(60, 64, 67, 0.15);\n",
              "      fill: #174EA6;\n",
              "    }\n",
              "\n",
              "    .colab-df-buttons div {\n",
              "      margin-bottom: 4px;\n",
              "    }\n",
              "\n",
              "    [theme=dark] .colab-df-convert {\n",
              "      background-color: #3B4455;\n",
              "      fill: #D2E3FC;\n",
              "    }\n",
              "\n",
              "    [theme=dark] .colab-df-convert:hover {\n",
              "      background-color: #434B5C;\n",
              "      box-shadow: 0px 1px 3px 1px rgba(0, 0, 0, 0.15);\n",
              "      filter: drop-shadow(0px 1px 2px rgba(0, 0, 0, 0.3));\n",
              "      fill: #FFFFFF;\n",
              "    }\n",
              "  </style>\n",
              "\n",
              "    <script>\n",
              "      const buttonEl =\n",
              "        document.querySelector('#df-561e32c3-d011-40d8-a697-1fd6b669d4b5 button.colab-df-convert');\n",
              "      buttonEl.style.display =\n",
              "        google.colab.kernel.accessAllowed ? 'block' : 'none';\n",
              "\n",
              "      async function convertToInteractive(key) {\n",
              "        const element = document.querySelector('#df-561e32c3-d011-40d8-a697-1fd6b669d4b5');\n",
              "        const dataTable =\n",
              "          await google.colab.kernel.invokeFunction('convertToInteractive',\n",
              "                                                    [key], {});\n",
              "        if (!dataTable) return;\n",
              "\n",
              "        const docLinkHtml = 'Like what you see? Visit the ' +\n",
              "          '<a target=\"_blank\" href=https://colab.research.google.com/notebooks/data_table.ipynb>data table notebook</a>'\n",
              "          + ' to learn more about interactive tables.';\n",
              "        element.innerHTML = '';\n",
              "        dataTable['output_type'] = 'display_data';\n",
              "        await google.colab.output.renderOutput(dataTable, element);\n",
              "        const docLink = document.createElement('div');\n",
              "        docLink.innerHTML = docLinkHtml;\n",
              "        element.appendChild(docLink);\n",
              "      }\n",
              "    </script>\n",
              "  </div>\n",
              "\n",
              "\n",
              "<div id=\"df-c22a244f-1e8a-4095-bbca-8cfd3b6c484b\">\n",
              "  <button class=\"colab-df-quickchart\" onclick=\"quickchart('df-c22a244f-1e8a-4095-bbca-8cfd3b6c484b')\"\n",
              "            title=\"Suggest charts.\"\n",
              "            style=\"display:none;\">\n",
              "\n",
              "<svg xmlns=\"http://www.w3.org/2000/svg\" height=\"24px\"viewBox=\"0 0 24 24\"\n",
              "     width=\"24px\">\n",
              "    <g>\n",
              "        <path d=\"M19 3H5c-1.1 0-2 .9-2 2v14c0 1.1.9 2 2 2h14c1.1 0 2-.9 2-2V5c0-1.1-.9-2-2-2zM9 17H7v-7h2v7zm4 0h-2V7h2v10zm4 0h-2v-4h2v4z\"/>\n",
              "    </g>\n",
              "</svg>\n",
              "  </button>\n",
              "\n",
              "<style>\n",
              "  .colab-df-quickchart {\n",
              "      --bg-color: #E8F0FE;\n",
              "      --fill-color: #1967D2;\n",
              "      --hover-bg-color: #E2EBFA;\n",
              "      --hover-fill-color: #174EA6;\n",
              "      --disabled-fill-color: #AAA;\n",
              "      --disabled-bg-color: #DDD;\n",
              "  }\n",
              "\n",
              "  [theme=dark] .colab-df-quickchart {\n",
              "      --bg-color: #3B4455;\n",
              "      --fill-color: #D2E3FC;\n",
              "      --hover-bg-color: #434B5C;\n",
              "      --hover-fill-color: #FFFFFF;\n",
              "      --disabled-bg-color: #3B4455;\n",
              "      --disabled-fill-color: #666;\n",
              "  }\n",
              "\n",
              "  .colab-df-quickchart {\n",
              "    background-color: var(--bg-color);\n",
              "    border: none;\n",
              "    border-radius: 50%;\n",
              "    cursor: pointer;\n",
              "    display: none;\n",
              "    fill: var(--fill-color);\n",
              "    height: 32px;\n",
              "    padding: 0;\n",
              "    width: 32px;\n",
              "  }\n",
              "\n",
              "  .colab-df-quickchart:hover {\n",
              "    background-color: var(--hover-bg-color);\n",
              "    box-shadow: 0 1px 2px rgba(60, 64, 67, 0.3), 0 1px 3px 1px rgba(60, 64, 67, 0.15);\n",
              "    fill: var(--button-hover-fill-color);\n",
              "  }\n",
              "\n",
              "  .colab-df-quickchart-complete:disabled,\n",
              "  .colab-df-quickchart-complete:disabled:hover {\n",
              "    background-color: var(--disabled-bg-color);\n",
              "    fill: var(--disabled-fill-color);\n",
              "    box-shadow: none;\n",
              "  }\n",
              "\n",
              "  .colab-df-spinner {\n",
              "    border: 2px solid var(--fill-color);\n",
              "    border-color: transparent;\n",
              "    border-bottom-color: var(--fill-color);\n",
              "    animation:\n",
              "      spin 1s steps(1) infinite;\n",
              "  }\n",
              "\n",
              "  @keyframes spin {\n",
              "    0% {\n",
              "      border-color: transparent;\n",
              "      border-bottom-color: var(--fill-color);\n",
              "      border-left-color: var(--fill-color);\n",
              "    }\n",
              "    20% {\n",
              "      border-color: transparent;\n",
              "      border-left-color: var(--fill-color);\n",
              "      border-top-color: var(--fill-color);\n",
              "    }\n",
              "    30% {\n",
              "      border-color: transparent;\n",
              "      border-left-color: var(--fill-color);\n",
              "      border-top-color: var(--fill-color);\n",
              "      border-right-color: var(--fill-color);\n",
              "    }\n",
              "    40% {\n",
              "      border-color: transparent;\n",
              "      border-right-color: var(--fill-color);\n",
              "      border-top-color: var(--fill-color);\n",
              "    }\n",
              "    60% {\n",
              "      border-color: transparent;\n",
              "      border-right-color: var(--fill-color);\n",
              "    }\n",
              "    80% {\n",
              "      border-color: transparent;\n",
              "      border-right-color: var(--fill-color);\n",
              "      border-bottom-color: var(--fill-color);\n",
              "    }\n",
              "    90% {\n",
              "      border-color: transparent;\n",
              "      border-bottom-color: var(--fill-color);\n",
              "    }\n",
              "  }\n",
              "</style>\n",
              "\n",
              "  <script>\n",
              "    async function quickchart(key) {\n",
              "      const quickchartButtonEl =\n",
              "        document.querySelector('#' + key + ' button');\n",
              "      quickchartButtonEl.disabled = true;  // To prevent multiple clicks.\n",
              "      quickchartButtonEl.classList.add('colab-df-spinner');\n",
              "      try {\n",
              "        const charts = await google.colab.kernel.invokeFunction(\n",
              "            'suggestCharts', [key], {});\n",
              "      } catch (error) {\n",
              "        console.error('Error during call to suggestCharts:', error);\n",
              "      }\n",
              "      quickchartButtonEl.classList.remove('colab-df-spinner');\n",
              "      quickchartButtonEl.classList.add('colab-df-quickchart-complete');\n",
              "    }\n",
              "    (() => {\n",
              "      let quickchartButtonEl =\n",
              "        document.querySelector('#df-c22a244f-1e8a-4095-bbca-8cfd3b6c484b button');\n",
              "      quickchartButtonEl.style.display =\n",
              "        google.colab.kernel.accessAllowed ? 'block' : 'none';\n",
              "    })();\n",
              "  </script>\n",
              "</div>\n",
              "    </div>\n",
              "  </div>\n"
            ],
            "text/plain": [
              "        count      mean       std\n",
              "userId                           \n",
              "1          16  3.312500  1.046821\n",
              "2          15  3.666667  0.487950\n",
              "3          11  3.545455  0.820200\n",
              "4         736  3.397418  1.231395\n",
              "5          72  4.263889  0.581234\n",
              "6          42  3.547619  0.967833\n",
              "7          15  3.200000  0.882367\n",
              "8          31  3.354839  0.754912\n",
              "9           1  5.000000       NaN\n",
              "10        121  4.190083  0.829800"
            ]
          },
          "execution_count": 18,
          "metadata": {},
          "output_type": "execute_result"
        }
      ],
      "source": [
        "ratings_user_summary = data.groupby('userId')['rating'].agg(['count', 'mean', 'std'])\n",
        "ratings_user_summary.head(10)"
      ]
    },
    {
      "cell_type": "markdown",
      "metadata": {
        "id": "GyD7VVA9C3Rp"
      },
      "source": [
        "Based on the first rows it is clear that the amount of movies rated by the several users differs a lot, for example user 4 rated 736 movies and user 9 just rated 1 movie. Because it might be hard for the algorithm to make a prediction for users with a small number of ratings in the dataset, only the top-k will be used for the algorithms."
      ]
    },
    {
      "cell_type": "code",
      "execution_count": null,
      "metadata": {
        "colab": {
          "base_uri": "https://localhost:8080/",
          "height": 478
        },
        "id": "VIqWxt1RSyV8",
        "outputId": "451f8a5c-4cd0-4883-bb2d-01da0138ce24"
      },
      "outputs": [
        {
          "data": {
            "image/png": "[encoded data removed]",
            "text/plain": [
              "<Figure size 500x500 with 1 Axes>"
            ]
          },
          "metadata": {},
          "output_type": "display_data"
        }
      ],
      "source": [
        "def plot_density(data):\n",
        "    fig, ax = plt.subplots(figsize=(5,5))\n",
        "    plot = sns.histplot(data['movieId'], kde=True, ax=ax)\n",
        "\n",
        "plot_density(data)"
      ]
    },
    {
      "cell_type": "markdown",
      "metadata": {
        "id": "-4ftbFuvC6E9"
      },
      "source": [
        "Based on the probability density plot we can conclude that some movies are rated quite a lot, but other movies just a few times. For the algorithm we will not use the movies with a few ratings, because that would make it a lot harder for the algorithms."
      ]
    },
    {
      "cell_type": "markdown",
      "metadata": {
        "id": "9ix5RpJ0DCEH"
      },
      "source": [
        "# Compute the relative frequency of top-k movies"
      ]
    },
    {
      "cell_type": "markdown",
      "metadata": {
        "id": "YaAWGtnxDEDe"
      },
      "source": [
        "To be able to determine which top-k movies are used for the algorithm, we will look at the relative frequencies. We will do this for the 5000 most frequent movies."
      ]
    },
    {
      "cell_type": "code",
      "execution_count": null,
      "metadata": {
        "colab": {
          "base_uri": "https://localhost:8080/",
          "height": 516
        },
        "id": "8Vj1WmkLS6nq",
        "outputId": "f158bf66-5583-42a6-aa6d-0bbb7de39159"
      },
      "outputs": [
        {
          "data": {
            "image/png": "[encoded data removed]",
            "text/plain": [
              "<Figure size 800x550 with 1 Axes>"
            ]
          },
          "metadata": {},
          "output_type": "display_data"
        }
      ],
      "source": [
        "def plot_frequency(data, k):\n",
        "\n",
        "    fig, ax = plt.subplots(figsize=(8,5.5))\n",
        "    counts = data['movieId'].value_counts(sort=True, ascending=False)\n",
        "    orig = counts.index.tolist()\n",
        "    counts2 = counts.reset_index(inplace=False, drop=True)\n",
        "    sub = counts2.index.tolist()\n",
        "\n",
        "    sns.lineplot(x=counts2.index[0:k], y=counts2[0:k]/counts2[0:k].sum(), ax=ax)\n",
        "    ax.fill_between(counts2.index[0:k], counts2[0:k]/counts2[0:k].sum(), alpha=0.5)\n",
        "    ax.set_ylabel(\"relative frequency\")\n",
        "    ax.set_xlabel(\"top-k\")\n",
        "\n",
        "plot_frequency(data, k=5000)"
      ]
    },
    {
      "cell_type": "markdown",
      "metadata": {
        "id": "s_5efXTtDV0o"
      },
      "source": [
        "# Compute the relative frequency of top-k users"
      ]
    },
    {
      "cell_type": "markdown",
      "metadata": {
        "id": "BQtTZMoHDZcr"
      },
      "source": [
        "To be able to determine which top-k users are used for the algorithm, we will look at the relative frequencies. We will do this for the 15000 most frequent users."
      ]
    },
    {
      "cell_type": "code",
      "execution_count": null,
      "metadata": {
        "colab": {
          "base_uri": "https://localhost:8080/",
          "height": 516
        },
        "id": "9fFRYesWS-Os",
        "outputId": "55bdc085-5926-42a9-c948-57243d6a6517"
      },
      "outputs": [
        {
          "data": {
            "image/png": "[encoded data removed]",
            "text/plain": [
              "<Figure size 800x550 with 1 Axes>"
            ]
          },
          "metadata": {},
          "output_type": "display_data"
        }
      ],
      "source": [
        "def plot_frequency(data, k):\n",
        "\n",
        "    fig, ax = plt.subplots(figsize=(8,5.5))\n",
        "    counts = data['userId'].value_counts(sort=True, ascending=False)\n",
        "    orig = counts.index.tolist()\n",
        "    counts2 = counts.reset_index(inplace=False, drop=True)\n",
        "    sub = counts2.index.tolist()\n",
        "\n",
        "    sns.lineplot(x=counts2.index[0:k], y=counts2[0:k]/counts2[0:k].sum(), ax=ax)\n",
        "    ax.fill_between(counts2.index[0:k], counts2[0:k]/counts2[0:k].sum(), alpha=0.5)\n",
        "    ax.set_ylabel(\"relative frequency\")\n",
        "    ax.set_xlabel(\"top-k\")\n",
        "\n",
        "plot_frequency(data, k=15000)"
      ]
    },
    {
      "cell_type": "markdown",
      "metadata": {
        "id": "npmSboH1DgLd"
      },
      "source": [
        "Based on this result, we choose to focus on the top 5000 users, so that users who just rated a few movies are not taken into account for the algorithms."
      ]
    },
    {
      "cell_type": "markdown",
      "metadata": {
        "id": "n_Dz48N55yTw"
      },
      "source": [
        "# Selecting the top-k items and update dataframe"
      ]
    },
    {
      "cell_type": "markdown",
      "metadata": {
        "id": "ceurqBSC53y7"
      },
      "source": [
        "The algorithms that we chose take a lot of time to run and this possibility has to do with the large size of the data set. To speed up the hyperparameter tuning process we selected first a smaller dataset, finding the optimal hyperparameters for the models, and then we used those optimal hyperparameters to train the final models on the larger dataset that follows the same distribution.\n",
        "\n",
        "Thus, we created the following dataset that consists of 200 movies and 500 users. We did this process for all the algorithms that we are going to train."
      ]
    },
    {
      "cell_type": "code",
      "execution_count": 6,
      "metadata": {
        "id": "_4WldwPfO7vN"
      },
      "outputs": [],
      "source": [
        "def select(data, k, col):\n",
        "\n",
        "    top_values = data[col].value_counts().nlargest(k)\n",
        "    return data.loc[data[col].isin(top_values.index)]\n",
        "\n",
        "df = select(data, k=200, col='movieId')\n",
        "df = select(df, k=500, col='userId')"
      ]
    },
    {
      "cell_type": "code",
      "execution_count": 7,
      "metadata": {
        "colab": {
          "base_uri": "https://localhost:8080/"
        },
        "id": "UJg1j-3RO7tW",
        "outputId": "b7fc75f3-5ec6-4590-b8ea-cc8e834cff60"
      },
      "outputs": [
        {
          "name": "stdout",
          "output_type": "stream",
          "text": [
            "unique users: 500\n",
            "unique movies: 200\n"
          ]
        }
      ],
      "source": [
        "unique_users = len(df['userId'].unique())\n",
        "unique_movies = len(df['movieId'].unique())\n",
        "\n",
        "print('unique users: ' + str(unique_users))\n",
        "print('unique movies: ' + str(unique_movies))"
      ]
    },
    {
      "cell_type": "markdown",
      "metadata": {
        "id": "nsRIpyJA7HCz"
      },
      "source": [
        "# Data preparation"
      ]
    },
    {
      "cell_type": "markdown",
      "metadata": {
        "id": "yYOFa5_T69Uy"
      },
      "source": [
        "\n",
        "We have to create a proper data set to feed to the algorithms. Firstly, we create a Reader object, which is used to parse a file containing ratings. If the data is loaded directly from a file instead of being loaded from a dataframe as we did in the second step, then the input file is assumed to have only one rating per line, and each line needs to respect the following structure: user ; item ; rating. Whichever the case might be, we need to configure the rating_scale parameter, which indicates the scale of ratings in our dataset. Secondly, we specify the column names and create the dataset object"
      ]
    },
    {
      "cell_type": "code",
      "execution_count": 8,
      "metadata": {
        "id": "j-OcOv_hO7pu"
      },
      "outputs": [],
      "source": [
        "# A reader is still needed but only the rating_scale param is required.\n",
        "reader = Reader(rating_scale=(0.5, 5))\n",
        "\n",
        "# The columns must correspond to user id, item id and ratings (in that order).\n",
        "data1 = Dataset.load_from_df(df[['userId', 'movieId', 'rating']], reader)"
      ]
    },
    {
      "cell_type": "markdown",
      "metadata": {
        "id": "XDlyafFv7Qp0"
      },
      "source": [
        "# Setting up the baseline model"
      ]
    },
    {
      "cell_type": "markdown",
      "metadata": {
        "id": "SHjF1q-A7PV9"
      },
      "source": [
        "We will use the NormalPredictor as the baseline. This algorithm predicts a random rating for a given item based on the distribution of the training datset, which is assumed to be normal. The code below runs a 5-fold cross-validation process using the data and the specified algorithms and retunrs the evaluation measure values."
      ]
    },
    {
      "cell_type": "code",
      "execution_count": 17,
      "metadata": {
        "colab": {
          "base_uri": "https://localhost:8080/"
        },
        "id": "OXv8IEVcO7nE",
        "outputId": "b78e5fe8-16b0-43b6-a99a-b7efb240836f"
      },
      "outputs": [
        {
          "data": {
            "text/plain": [
              "{'test_rmse': array([1.33643244, 1.32313775, 1.34732611, 1.34497681, 1.3302653 ]),\n",
              " 'train_rmse': array([1.33673216, 1.33991967, 1.33725581, 1.34036161, 1.34105565]),\n",
              " 'test_mae': array([1.06435527, 1.05062238, 1.07077278, 1.07032423, 1.05967878]),\n",
              " 'train_mae': array([1.06257235, 1.06532503, 1.06232003, 1.06468662, 1.06453283]),\n",
              " 'fit_time': (0.0965423583984375,\n",
              "  0.1238102912902832,\n",
              "  0.12720584869384766,\n",
              "  0.11733460426330566,\n",
              "  0.12736225128173828),\n",
              " 'test_time': (0.08395957946777344,\n",
              "  0.07939004898071289,\n",
              "  0.06839346885681152,\n",
              "  0.17507123947143555,\n",
              "  0.06572961807250977)}"
            ]
          },
          "execution_count": 17,
          "metadata": {},
          "output_type": "execute_result"
        }
      ],
      "source": [
        "cross_validate(NormalPredictor(), data1, cv=5, return_train_measures=True)"
      ]
    },
    {
      "cell_type": "markdown",
      "metadata": {
        "id": "TAC4s47JJJ81"
      },
      "source": [
        "The RMSE for the baseline is 1.33."
      ]
    },
    {
      "cell_type": "markdown",
      "metadata": {
        "id": "nFHLoM159kuI"
      },
      "source": [
        "## 5. Neighborhood method"
      ]
    },
    {
      "cell_type": "markdown",
      "metadata": {
        "id": "hIYLfyw89gta"
      },
      "source": [
        "The Neighborhood methods are methods that are derived from the basic nearest neighbor approach. Here we tried the following Neighborhood methods:\n",
        "- KNNBasic\n",
        "- KNNWithMeans"
      ]
    },
    {
      "cell_type": "markdown",
      "metadata": {
        "id": "pzkkUbcRUAey"
      },
      "source": [
        "# KNNBasic"
      ]
    },
    {
      "cell_type": "markdown",
      "metadata": {
        "id": "11-2RtDk7ZMV"
      },
      "source": [
        "The first neighborhood method that has been applied is KNNBasic. For this method the parameters k (the (maximal) number of neighbors used) and min_k (the minimum number of neighbors used) are optimised using values (30,40,50) and (1,2,5) respectively. Those values are chosen based on the default values of those parameters, which are 40 and 1 respectively.\n",
        "\n",
        "This model will be tested in the small dataset that we created."
      ]
    },
    {
      "cell_type": "code",
      "execution_count": null,
      "metadata": {
        "id": "YFprFvWzPdPU"
      },
      "outputs": [],
      "source": [
        "param_grid = {\"k\":[30,40,50], 'min_k':[1,2,5]}\n",
        "gs = GridSearchCV(KNNBasic, param_grid, measures=[\"rmse\"], cv=5)\n",
        "gs.fit(data1)\n",
        "print(gs.best_score['rmse'])\n",
        "print(gs.best_params['rmse'])"
      ]
    },
    {
      "cell_type": "markdown",
      "metadata": {
        "id": "yxFDWXyF7nxY"
      },
      "source": [
        "The best hyperparameters are k=30 and min_k=1 and we will use them to train our larger dataset."
      ]
    },
    {
      "cell_type": "code",
      "execution_count": 19,
      "metadata": {
        "colab": {
          "base_uri": "https://localhost:8080/"
        },
        "id": "FrhMohSURhbl",
        "outputId": "c54d1659-685a-4f3e-944c-e367438fffa5"
      },
      "outputs": [
        {
          "name": "stdout",
          "output_type": "stream",
          "text": [
            "Computing the msd similarity matrix...\n",
            "Done computing similarity matrix.\n",
            "Computing the msd similarity matrix...\n",
            "Done computing similarity matrix.\n",
            "Computing the msd similarity matrix...\n",
            "Done computing similarity matrix.\n",
            "Computing the msd similarity matrix...\n",
            "Done computing similarity matrix.\n",
            "Computing the msd similarity matrix...\n",
            "Done computing similarity matrix.\n"
          ]
        },
        {
          "data": {
            "text/plain": [
              "{'test_rmse': array([0.75282404, 0.76607841, 0.75728825, 0.76762282, 0.76068024]),\n",
              " 'train_rmse': array([0.67434411, 0.67319551, 0.67522312, 0.67273268, 0.67366447]),\n",
              " 'test_mae': array([0.56842385, 0.57548962, 0.5715934 , 0.57764929, 0.57188281]),\n",
              " 'train_mae': array([0.50997444, 0.50994928, 0.51065384, 0.50950303, 0.50977402]),\n",
              " 'fit_time': (0.73061203956604,\n",
              "  0.7055966854095459,\n",
              "  0.7313716411590576,\n",
              "  0.8162221908569336,\n",
              "  0.7153120040893555),\n",
              " 'test_time': (8.485268354415894,\n",
              "  6.853667974472046,\n",
              "  6.802901744842529,\n",
              "  8.682814121246338,\n",
              "  9.053251028060913)}"
            ]
          },
          "execution_count": 19,
          "metadata": {},
          "output_type": "execute_result"
        }
      ],
      "source": [
        "# Load the larger dataset that follows the same distribution as the smaller one\n",
        "# Assuming 'df' contains your larger dataset\n",
        "data = Dataset.load_from_df(df[['userId', 'movieId', 'rating']], reader)\n",
        "\n",
        "# Create the final model using the best hyperparameters\n",
        "final_model = KNNBasic(k=30, min_k=1)  # Use the best hyperparameters you found\n",
        "\n",
        "# Train the final model on the larger dataset\n",
        "cross_validate(final_model, data, cv=5, return_train_measures=True)\n"
      ]
    },
    {
      "cell_type": "markdown",
      "metadata": {
        "id": "DRoShdlV8-do"
      },
      "source": [
        "The optimal RMSE score is 0.76"
      ]
    },
    {
      "cell_type": "markdown",
      "metadata": {
        "id": "1qaxlAn7UFDB"
      },
      "source": [
        "# KNNwithmeans"
      ]
    },
    {
      "cell_type": "markdown",
      "metadata": {
        "id": "Txi3a-MK9DaN"
      },
      "source": [
        "KNNWithMeans algorithm is based on KNN supervised classification algorithm, It is a basic collaborative based filtering algorithm by taking into account the mean ratings of each user. For this method the parameters k (the (maximal) number of neighbors used) and min_k (the minimum number of neighbors used) are optimised using values (30,40,50) and (1,2,5) respectively. Those values are chosen based on the default values of those parameters, which are 40 and 1 respectively."
      ]
    },
    {
      "cell_type": "code",
      "execution_count": null,
      "metadata": {
        "id": "ZQaMVDZJUFog"
      },
      "outputs": [],
      "source": [
        "param_grid = {\"k\":[30,40,50], 'min_k':[1,2,5]}\n",
        "gs = GridSearchCV(KNNWithMeans, param_grid, measures=[\"rmse\"], cv=5)\n",
        "gs.fit(data1)\n",
        "print(gs.best_score['rmse'])\n",
        "print(gs.best_params['rmse'])"
      ]
    },
    {
      "cell_type": "markdown",
      "metadata": {
        "id": "l7se2hNz9KbK"
      },
      "source": [
        "The best hyperparameters are again k=30 and min_k=1."
      ]
    },
    {
      "cell_type": "code",
      "execution_count": 22,
      "metadata": {
        "colab": {
          "base_uri": "https://localhost:8080/"
        },
        "id": "jEMOkWwYU-eI",
        "outputId": "2cfacd12-9019-4e6b-968f-2f27650665f7"
      },
      "outputs": [
        {
          "name": "stdout",
          "output_type": "stream",
          "text": [
            "Computing the msd similarity matrix...\n",
            "Done computing similarity matrix.\n",
            "Computing the msd similarity matrix...\n",
            "Done computing similarity matrix.\n",
            "Computing the msd similarity matrix...\n",
            "Done computing similarity matrix.\n",
            "Computing the msd similarity matrix...\n",
            "Done computing similarity matrix.\n",
            "Computing the msd similarity matrix...\n",
            "Done computing similarity matrix.\n"
          ]
        },
        {
          "data": {
            "text/plain": [
              "{'test_rmse': array([0.74155167, 0.7363159 , 0.7402437 , 0.73888332, 0.74496125]),\n",
              " 'train_rmse': array([0.65519294, 0.65697433, 0.65538151, 0.65482081, 0.65533235]),\n",
              " 'test_mae': array([0.56278   , 0.56139923, 0.55896834, 0.5634559 , 0.56416566]),\n",
              " 'train_mae': array([0.49914557, 0.50081718, 0.49980917, 0.49846099, 0.4997575 ]),\n",
              " 'fit_time': (0.7230300903320312,\n",
              "  0.7007551193237305,\n",
              "  0.7159702777862549,\n",
              "  0.7180449962615967,\n",
              "  0.7327208518981934),\n",
              " 'test_time': (10.151005983352661,\n",
              "  8.766399621963501,\n",
              "  7.596319913864136,\n",
              "  7.1653525829315186,\n",
              "  6.977658748626709)}"
            ]
          },
          "execution_count": 22,
          "metadata": {},
          "output_type": "execute_result"
        }
      ],
      "source": [
        "# Load the larger dataset that follows the same distribution as the smaller one\n",
        "data = Dataset.load_from_df(df[['userId', 'movieId', 'rating']], reader)\n",
        "\n",
        "# Create the final model using the best hyperparameters\n",
        "final_model = KNNWithMeans(k=30, min_k=1)  # Use the best hyperparameters you found\n",
        "\n",
        "# Train the final model on the larger dataset\n",
        "cross_validate(final_model, data, cv=5, return_train_measures=True)"
      ]
    },
    {
      "cell_type": "markdown",
      "metadata": {
        "id": "m9xpnDZRFVdy"
      },
      "source": [
        "The RMSE score is 0.74."
      ]
    },
    {
      "cell_type": "markdown",
      "metadata": {
        "id": "tqQx_DsF-EEv"
      },
      "source": [
        "## 6. Matrix factorization method"
      ]
    },
    {
      "cell_type": "markdown",
      "metadata": {
        "id": "JwVCxa2I-E0g"
      },
      "source": [
        "SVD (Singular Value Decomposition) is one of the popular matrix factorization algorithms. It works the same as PCA (Principal Component analysis). It is used to find finding latent factors that can be extracted from data. For the hyperparameter tuning, the parameters n_factors (the number of factors) and reg_all (the regularization term for all parameters) are optimised. The values chosen for the hyperparameter tuning with GridSearch Cross Validation are chosen based on the default values, which are 100 and 0.02 respectively."
      ]
    },
    {
      "cell_type": "markdown",
      "metadata": {
        "id": "deq_nQ2VXVs-"
      },
      "source": [
        "#SVD"
      ]
    },
    {
      "cell_type": "code",
      "execution_count": 23,
      "metadata": {
        "colab": {
          "base_uri": "https://localhost:8080/"
        },
        "id": "8iHe8u2oXXm6",
        "outputId": "d7888e70-d3da-43e4-989c-df21896b3c7d"
      },
      "outputs": [
        {
          "name": "stdout",
          "output_type": "stream",
          "text": [
            "0.7121888904508965\n",
            "{'n_factors': 125, 'reg_all': 0.02}\n"
          ]
        }
      ],
      "source": [
        "param_grid = {'n_factors': [75,100,125],'reg_all': [0.02, 0.05]}\n",
        "gs = GridSearchCV(SVD, param_grid, measures=[\"rmse\"], cv=5)\n",
        "gs.fit(data1)\n",
        "print(gs.best_score['rmse'])\n",
        "print(gs.best_params['rmse'])"
      ]
    },
    {
      "cell_type": "code",
      "execution_count": 28,
      "metadata": {
        "colab": {
          "base_uri": "https://localhost:8080/"
        },
        "id": "Tn7dhfB0Xfpy",
        "outputId": "4cf71799-521b-479f-fa9a-5c9793e82729"
      },
      "outputs": [
        {
          "data": {
            "text/plain": [
              "{'test_rmse': array([0.72149985, 0.70199419, 0.70606782, 0.71355057, 0.71233107]),\n",
              " 'train_rmse': array([0.54794745, 0.54419819, 0.54427986, 0.54690077, 0.54404866]),\n",
              " 'test_mae': array([0.54575061, 0.53048925, 0.53745401, 0.53945947, 0.53752259]),\n",
              " 'train_mae': array([0.41914642, 0.41642404, 0.41655483, 0.41838461, 0.41580031]),\n",
              " 'fit_time': (1.4163038730621338,\n",
              "  1.647430658340454,\n",
              "  2.1748783588409424,\n",
              "  1.475109338760376,\n",
              "  1.509145975112915),\n",
              " 'test_time': (0.1288776397705078,\n",
              "  0.11654925346374512,\n",
              "  0.22275376319885254,\n",
              "  0.12977194786071777,\n",
              "  0.34690260887145996)}"
            ]
          },
          "execution_count": 28,
          "metadata": {},
          "output_type": "execute_result"
        }
      ],
      "source": [
        "# Load the larger dataset that follows the same distribution as the smaller one\n",
        "data = Dataset.load_from_df(df[['userId', 'movieId', 'rating']], reader)\n",
        "\n",
        "# Create the final model using the best hyperparameters\n",
        "final_model = SVD(n_factors = 125, reg_all = 0.02)  # Use the best hyperparameters you found\n",
        "\n",
        "# Train the final model on the larger dataset\n",
        "cross_validate(final_model, data, cv=5, return_train_measures=True)"
      ]
    },
    {
      "cell_type": "markdown",
      "metadata": {
        "id": "OgP7jL5rH4pb"
      },
      "source": [
        "The RMSE score is 0.71"
      ]
    },
    {
      "cell_type": "markdown",
      "metadata": {
        "id": "gaf3E9LkIHNK"
      },
      "source": [
        "# Conclusions"
      ]
    },
    {
      "cell_type": "markdown",
      "metadata": {
        "id": "oHE9Fq2HIGCP"
      },
      "source": [
        "In conclusion, this analysis focused on building and evaluating recommendation models using the Surprise library in Python. We made a summary of the key steps and findings:\n",
        "\n",
        "1. Package Installation: The analysis began with the installation of necessary packages, including scikit-surprise, which is a library for building and evaluating recommendation systems.\n",
        "\n",
        "2. Data Loading: The dataset used for this analysis was loaded from a CSV file containing movie ratings data provided by the course material.\n",
        "\n",
        "3. Exploratory Data Analysis (EDA): The EDA phase involved exploring the dataset to understand its characteristics. Key insights included:\n",
        "   - The dataset contained ratings ranging from 0.5 to 5.0.\n",
        "   - There were a total of 283,228 unique users and 53,889 unique movies in the dataset.\n",
        "   - The distribution of ratings and the number of ratings per user and movie were visualized to better understand the data.\n",
        "\n",
        "4. Data Preparation: To prepare the data for recommendation models, we creasted a Reader object, and the dataset was loaded with the required columns (userId, movieId, rating).\n",
        "We created a smaller data set in order to find the best hyperparameters and then we build our models using those hyperparameters. This technique helped us to bulid our models on the original larger dataset.\n",
        "\n",
        "5. Baseline Model (NormalPredictor): The analysis started with a baseline model, NormalPredictor, which predicts random ratings based on the distribution of the training dataset. Cross-validation was performed, and the Root Mean Squared Error (RMSE) for this model was approximately 1.33 which is a very high value and usually we prefer smallevalues.\n",
        "\n",
        "6. Neighborhood Methods: Two neighborhood-based collaborative filtering methods were explored:\n",
        "   - KNNBasic: The optimal hyperparameters were found to be k=30 (number of neighbors) and min_k=1 (minimum number of neighbors). The RMSE for this model was approximately 0.76.\n",
        "   - KNNWithMeans: This method, which takes into account the mean ratings of each user, also had optimal hyperparameters of k=30 and min_k=1. The RMSE for this model was approximately 0.74.\n",
        "\n",
        "7. Matrix Factorization Method (SVD): Singular Value Decomposition (SVD) was used as a matrix factorization method. Hyperparameter tuning resulted in an optimal configuration of n_factors=125 and reg_all=0.02. The RMSE for this model was approximately 0.71.\n",
        "\n",
        "In summary, this analysis demonstrated the process of building and evaluating recommendation models using Surprise. The models' performance was assessed using RMSE, and different techniques, including neighborhood methods and matrix factorization, were explored. Further fine-tuning and evaluation could be performed to choose the best-performing model for making movie recommendations."
      ]
    },
    {
      "cell_type": "markdown",
      "metadata": {
        "id": "ta1JtCGXJvZj"
      },
      "source": [
        "Among the models, the SVD model has the lowest RMSE, which suggests that it is the best-performing model based on this evaluation metric. A lower RMSE generally indicates that the model provides more accurate predictions.\n",
        "\n",
        "So, in this case, the SVD model with an RMSE of approximately 0.71 is the best model in terms of RMSE performance.\n",
        "\n",
        "To be able to improve the results further, we suggest that more configurations of the SVD algorithm should be tested. Next to that, it might be good to also test other matrix factorization methods. The neighborhood based algorithms appeared to be very slow and didn't give better results. So the focus should be on the matrix factorization methods."
      ]
    }
  ],
  "metadata": {
    "colab": {
      "provenance": []
    },
    "kernelspec": {
      "display_name": "Python 3",
      "name": "python3"
    },
    "language_info": {
      "name": "python"
    }
  },
  "nbformat": 4,
  "nbformat_minor": 0
}
